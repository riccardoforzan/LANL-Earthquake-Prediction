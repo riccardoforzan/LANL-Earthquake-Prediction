{
  "cells": [
    {
      "cell_type": "markdown",
      "metadata": {
        "colab_type": "text",
        "id": "view-in-github"
      },
      "source": [
        "<a href=\"https://colab.research.google.com/github/riccardorampon/LANL-Earthquake-Prediction/blob/main/earthquake_detection.ipynb\" target=\"_parent\"><img src=\"https://colab.research.google.com/assets/colab-badge.svg\" alt=\"Open In Colab\"/></a>"
      ]
    },
    {
      "cell_type": "code",
      "execution_count": null,
      "metadata": {
        "colab": {
          "base_uri": "https://localhost:8080/"
        },
        "id": "Z2LJjPMrQvWw",
        "outputId": "2c4f7bc9-9821-499c-cfbe-62a10f26b438"
      },
      "outputs": [],
      "source": [
        "!pip install sklearn.cross_validation"
      ]
    },
    {
      "cell_type": "code",
      "execution_count": null,
      "metadata": {
        "colab": {
          "base_uri": "https://localhost:8080/",
          "height": 589
        },
        "id": "tCZekDRLLmbc",
        "outputId": "9c355feb-c889-4174-de06-38142636b2c4"
      },
      "outputs": [],
      "source": [
        "!pip install basemap\n",
        "from mpl_toolkits.basemap import Basemap"
      ]
    },
    {
      "cell_type": "markdown",
      "metadata": {
        "id": "uwzspJR-AYnj"
      },
      "source": [
        "## **Import the necessary libraries required for buidling the model and data analysis of the earthquakes**"
      ]
    },
    {
      "cell_type": "code",
      "execution_count": null,
      "metadata": {
        "colab": {
          "base_uri": "https://localhost:8080/",
          "height": 334
        },
        "id": "6Zr9-ZH0KLKi",
        "outputId": "0a70590c-1a0d-40b6-f6fa-cc61c619d9b5"
      },
      "outputs": [],
      "source": [
        "#importing all the libraries\n",
        "\n",
        "import numpy as np\n",
        "import pandas as pd\n",
        "import matplotlib.pyplot as plt\n",
        "\n",
        "#loading the dataset\n",
        "data=pd.read_csv(\"database.csv\")\n",
        "\n",
        "#visualizing the first dataset rows\n",
        "data.head()"
      ]
    },
    {
      "cell_type": "code",
      "execution_count": null,
      "metadata": {
        "colab": {
          "base_uri": "https://localhost:8080/"
        },
        "id": "sT6QJJQx-SYV",
        "outputId": "a0d0fe61-5eca-4f9f-fc21-7368e0dbb935"
      },
      "outputs": [],
      "source": [
        "data.columns"
      ]
    },
    {
      "cell_type": "code",
      "execution_count": null,
      "metadata": {
        "colab": {
          "base_uri": "https://localhost:8080/",
          "height": 206
        },
        "id": "5gpaimw5KRQR",
        "outputId": "84817c9b-2548-4032-f903-a2f86692583d"
      },
      "outputs": [],
      "source": [
        "#there are a lot of empty coloumns, let's take only the filled one and that coloumns that we need for our purposess\n",
        "\n",
        "data = data[['Date', 'Time', 'Latitude', 'Longitude', 'Depth', 'Magnitude']]\n",
        "data.head()"
      ]
    },
    {
      "cell_type": "markdown",
      "metadata": {
        "id": "fxYOh2vFAhK7"
      },
      "source": [
        "## **Merge 'Data' and 'Time' columns into one 'Timestamp'**"
      ]
    },
    {
      "cell_type": "code",
      "execution_count": null,
      "metadata": {
        "colab": {
          "base_uri": "https://localhost:8080/",
          "height": 206
        },
        "id": "Lsc85h9jKTc7",
        "outputId": "3d9f5924-6feb-4a2b-dc4e-255a19f9a0fa"
      },
      "outputs": [],
      "source": [
        "#let's merge date and time coloumns in a single field called timestamp\n",
        "import datetime\n",
        "import time\n",
        "\n",
        "timestamp = []\n",
        "for d, t in zip(data['Date'], data['Time']):\n",
        "    try:\n",
        "        ts = datetime.datetime.strptime(d+' '+t, '%m/%d/%Y %H:%M:%S')\n",
        "        timestamp.append(time.mktime(ts.timetuple()))\n",
        "    except ValueError:\n",
        "        # print('ValueError')\n",
        "        timestamp.append('ValueError')\n",
        "\n",
        "timeStamp = pd.Series(timestamp)\n",
        "data['Timestamp'] = timeStamp.values\n",
        "\n",
        "final_data = data.drop(['Date', 'Time'], axis=1)\n",
        "final_data = final_data[final_data.Timestamp != 'ValueError']\n",
        "final_data.head()"
      ]
    },
    {
      "cell_type": "markdown",
      "metadata": {
        "id": "AchIVxI5A2uv"
      },
      "source": [
        "## **Visualization on Basemap**"
      ]
    },
    {
      "cell_type": "code",
      "execution_count": null,
      "metadata": {
        "colab": {
          "base_uri": "https://localhost:8080/",
          "height": 441
        },
        "id": "3QJyfEp-MoNQ",
        "outputId": "4ce00ad9-4561-43fd-82be-6b89de545832"
      },
      "outputs": [],
      "source": [
        "\n",
        "#data showing with a geographical map\n",
        "\n",
        "from mpl_toolkits.basemap import Basemap\n",
        "\n",
        "m = Basemap(projection='mill',llcrnrlat=-80,urcrnrlat=80, llcrnrlon=-180,urcrnrlon=180,lat_ts=20,resolution='c')\n",
        "\n",
        "longitudes = data[\"Longitude\"].tolist()\n",
        "latitudes = data[\"Latitude\"].tolist()\n",
        "#m = Basemap(width=12000000,height=9000000,projection='lcc',\n",
        "            #resolution=None,lat_1=80.,lat_2=55,lat_0=80,lon_0=-107.)\n",
        "x,y = m(longitudes,latitudes)\n",
        "fig = plt.figure(figsize=(12,10))\n",
        "plt.title(\"All affected areas\")\n",
        "m.plot(x, y, \"o\", markersize = 2, color = 'blue')\n",
        "m.drawcoastlines()\n",
        "m.fillcontinents(color='coral',lake_color='aqua')\n",
        "m.drawmapboundary()\n",
        "m.drawcountries()\n",
        "plt.show()"
      ]
    },
    {
      "cell_type": "markdown",
      "metadata": {
        "id": "gwuOVujEA9ih"
      },
      "source": [
        "## **Splitting the Data**"
      ]
    },
    {
      "cell_type": "code",
      "execution_count": null,
      "metadata": {
        "colab": {
          "base_uri": "https://localhost:8080/"
        },
        "id": "ZI-dkMvhQOIY",
        "outputId": "7e96454c-4bed-454f-8d21-820fa4f690eb"
      },
      "outputs": [],
      "source": [
        "#we want to predict magnitude and depth from timestamp, latitude and longitude data\n",
        "\n",
        "X = final_data[['Timestamp', 'Latitude', 'Longitude']]\n",
        "y = final_data[['Magnitude', 'Depth']]\n",
        "\n",
        "#split data for cross validation\n",
        "\n",
        "from sklearn.model_selection import train_test_split\n",
        "\n",
        "X_train, X_test, y_train, y_test = train_test_split(X, y, test_size=0.2, random_state=42)\n",
        "print(X_train.shape, X_test.shape, y_train.shape, y_test.shape)"
      ]
    },
    {
      "cell_type": "markdown",
      "metadata": {
        "id": "OeE8W4CHBBR-"
      },
      "source": [
        "## **Random Forest Regressor**"
      ]
    },
    {
      "cell_type": "code",
      "execution_count": null,
      "metadata": {
        "colab": {
          "base_uri": "https://localhost:8080/"
        },
        "id": "2uu_MdwR_A3e",
        "outputId": "29f60232-0cd5-47a2-a373-37204dc9a1a0"
      },
      "outputs": [],
      "source": [
        "from sklearn.ensemble import RandomForestRegressor\n",
        "\n",
        "reg = RandomForestRegressor(random_state=42)\n",
        "reg.fit(X_train, y_train)\n",
        "reg.predict(X_test)"
      ]
    },
    {
      "cell_type": "code",
      "execution_count": null,
      "metadata": {
        "colab": {
          "base_uri": "https://localhost:8080/"
        },
        "id": "rPDF6sUm_Hvh",
        "outputId": "b311a936-e265-4152-d76f-8b7cc08a9a54"
      },
      "outputs": [],
      "source": [
        "reg.score(X_test,y_test)"
      ]
    },
    {
      "cell_type": "code",
      "execution_count": null,
      "metadata": {
        "colab": {
          "base_uri": "https://localhost:8080/"
        },
        "id": "XLHMyD2lAJjj",
        "outputId": "2e549501-5979-4358-ec7b-e56b4495f477"
      },
      "outputs": [],
      "source": [
        "from sklearn.model_selection import GridSearchCV\n",
        "\n",
        "parameters = {'n_estimators':[10, 20]} #aumentare il numero di estimator, ma ci mette un sacco di tempo\n",
        "\n",
        "grid_obj = GridSearchCV(reg, parameters)\n",
        "grid_fit = grid_obj.fit(X_train, y_train)\n",
        "best_fit = grid_fit.best_estimator_\n",
        "best_fit.predict(X_test)"
      ]
    },
    {
      "cell_type": "code",
      "execution_count": null,
      "metadata": {
        "colab": {
          "base_uri": "https://localhost:8080/"
        },
        "id": "PHhV4TdvAMn3",
        "outputId": "305d7402-fdce-401d-ac70-d5d2ac8cba64"
      },
      "outputs": [],
      "source": [
        "best_fit.score(X_test, y_test)"
      ]
    },
    {
      "cell_type": "markdown",
      "metadata": {
        "id": "BjDbTwRiCE1U"
      },
      "source": [
        "## **Neural Network model**\n"
      ]
    },
    {
      "cell_type": "code",
      "execution_count": null,
      "metadata": {
        "id": "jcslMZviCHPP"
      },
      "outputs": [],
      "source": [
        "from keras.models import Sequential\n",
        "from keras.layers import Dense\n",
        "\n",
        "def create_model(neurons, activation, optimizer, loss):\n",
        "    model = Sequential()\n",
        "    model.add(Dense(neurons, activation=activation, input_dim=(3)))\n",
        "    model.add(Dense(neurons, activation=activation))\n",
        "    model.add(Dense(2, activation='softmax'))\n",
        "    \n",
        "    model.compile(optimizer=optimizer, loss=loss, metrics=['accuracy'])\n",
        "    \n",
        "    return model"
      ]
    },
    {
      "cell_type": "code",
      "execution_count": null,
      "metadata": {
        "colab": {
          "base_uri": "https://localhost:8080/"
        },
        "id": "kqZEuuhCCOyy",
        "outputId": "ba3bae3b-e75c-4b57-8cd6-42119c0b2c44"
      },
      "outputs": [],
      "source": [
        "from keras.wrappers.scikit_learn import KerasClassifier\n",
        "\n",
        "model = KerasClassifier(build_fn=create_model, verbose=0)\n",
        "\n",
        "# neurons = [16, 64, 128, 256]\n",
        "neurons = [16]\n",
        "# batch_size = [10, 20, 50, 100]\n",
        "batch_size = [10]\n",
        "epochs = [10]\n",
        "# activation = ['relu', 'tanh', 'sigmoid', 'hard_sigmoid', 'linear', 'exponential']\n",
        "activation = ['sigmoid', 'relu']\n",
        "# optimizer = ['SGD', 'RMSprop', 'Adagrad', 'Adadelta', 'Adam', 'Adamax', 'Nadam']\n",
        "optimizer = ['SGD', 'Adadelta']\n",
        "loss = ['squared_hinge']\n",
        "\n",
        "param_grid = dict(neurons=neurons, batch_size=batch_size, epochs=epochs, activation=activation, optimizer=optimizer, loss=loss)"
      ]
    },
    {
      "cell_type": "code",
      "execution_count": null,
      "metadata": {
        "id": "2Oi9ts-hEtI-"
      },
      "outputs": [],
      "source": [
        "new_X_train = np.array([np.array(val) for val in X_train])\n",
        "new_y_train = np.array([np.array(val) for val in y_train])\n",
        "\n",
        "new_X_test = np.array([np.array(val) for val in X_test])\n",
        "new_y_test = np.array([np.array(val) for val in y_test])"
      ]
    },
    {
      "cell_type": "code",
      "execution_count": null,
      "metadata": {
        "colab": {
          "base_uri": "https://localhost:8080/",
          "height": 380
        },
        "id": "ivLYO1YJCVNX",
        "outputId": "778bf3c3-a3e3-4e97-c225-488d0d643076"
      },
      "outputs": [],
      "source": [
        "grid = GridSearchCV(estimator=model, param_grid=param_grid, n_jobs=-1)\n",
        "\n",
        "grid_result = grid.fit(new_X_train, y_train)\n",
        "\n",
        "print(\"Best: %f using %s\" % (grid_result.best_score_, grid_result.best_params_))\n",
        "means = grid_result.cv_results_['mean_test_score']\n",
        "stds = grid_result.cv_results_['std_test_score']\n",
        "params = grid_result.cv_results_['params']\n",
        "for mean, stdev, param in zip(means, stds, params):\n",
        "    print(\"%f (%f) with: %r\" % (mean, stdev, param))"
      ]
    },
    {
      "cell_type": "code",
      "execution_count": null,
      "metadata": {
        "id": "BDkbmWTmD4ql"
      },
      "outputs": [],
      "source": [
        "model = Sequential()\n",
        "model.add(Dense(16, activation='relu', input_shape=(3,)))\n",
        "model.add(Dense(16, activation='relu'))\n",
        "model.add(Dense(2, activation='softmax'))\n",
        "\n",
        "model.compile(optimizer='SGD', loss='squared_hinge', metrics=['accuracy'])"
      ]
    },
    {
      "cell_type": "code",
      "execution_count": null,
      "metadata": {
        "colab": {
          "base_uri": "https://localhost:8080/",
          "height": 397
        },
        "id": "KjmBXWtaMICi",
        "outputId": "72bfb235-0059-4008-a655-a1aa198c47e1"
      },
      "outputs": [],
      "source": [
        "print(new_X_train.shape)\n",
        "print(new_y_train.shape)\n",
        "from sklearn.svm import SVC\n",
        "\n",
        "rbf_SVM = SVC(kernel= 'rbf')\n",
        "rbf_SVM.fit(X_train, y_train)\n",
        "#model.fit(new_X_train, y_train, batch_size=10, epochs=20, verbose=1, validation_data=(X_test, y_test))"
      ]
    },
    {
      "cell_type": "code",
      "execution_count": null,
      "metadata": {
        "colab": {
          "base_uri": "https://localhost:8080/",
          "height": 328
        },
        "id": "sFRZxsJaEXtP",
        "outputId": "a56f1909-903c-4800-d65c-00e45dc3b337"
      },
      "outputs": [],
      "source": [
        "[test_loss, test_acc] = model.evaluate(X_test, y_test)\n",
        "print(\"Evaluation result on Test Data : Loss = {}, accuracy = {}\".format(test_loss, test_acc))"
      ]
    },
    {
      "cell_type": "code",
      "execution_count": null,
      "metadata": {
        "id": "2_pCKbdtEZuY"
      },
      "outputs": [],
      "source": [
        "model.save('earthquake.h5')"
      ]
    }
  ],
  "metadata": {
    "colab": {
      "collapsed_sections": [],
      "include_colab_link": true,
      "name": "Copia di earthquake_detection.ipynb",
      "provenance": []
    },
    "kernelspec": {
      "display_name": "Python 3",
      "name": "python3"
    },
    "language_info": {
      "name": "python"
    }
  },
  "nbformat": 4,
  "nbformat_minor": 0
}
